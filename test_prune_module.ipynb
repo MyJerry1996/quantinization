{
 "cells": [
  {
   "cell_type": "code",
   "execution_count": 19,
   "metadata": {},
   "outputs": [],
   "source": [
    "import torch\n",
    "import torch.nn as nn\n",
    "import torch.nn.utils.prune as prune\n",
    "import torch.nn.functional as F\n",
    "from model import LeNet"
   ]
  },
  {
   "cell_type": "code",
   "execution_count": 20,
   "metadata": {},
   "outputs": [],
   "source": [
    "device = torch.device(\"cuda\" if torch.cuda.is_available() else \"cpu\")"
   ]
  },
  {
   "cell_type": "code",
   "execution_count": 21,
   "metadata": {},
   "outputs": [],
   "source": [
    "model = LeNet().to(device = device)"
   ]
  },
  {
   "cell_type": "code",
   "execution_count": 22,
   "metadata": {},
   "outputs": [],
   "source": [
    "module = model.conv1"
   ]
  },
  {
   "cell_type": "code",
   "execution_count": 23,
   "metadata": {},
   "outputs": [
    {
     "name": "stdout",
     "output_type": "stream",
     "text": [
      "named_parameters_before: [('weight', Parameter containing:\n",
      "tensor([[[[ 0.0284,  0.2955, -0.1782],\n",
      "          [ 0.0582,  0.2633,  0.1184],\n",
      "          [ 0.0152, -0.1134,  0.1717]]],\n",
      "\n",
      "\n",
      "        [[[-0.2635,  0.0592,  0.2944],\n",
      "          [-0.0558, -0.2884, -0.1755],\n",
      "          [ 0.2850,  0.1975, -0.0298]]],\n",
      "\n",
      "\n",
      "        [[[ 0.0245, -0.0228, -0.0329],\n",
      "          [-0.2639, -0.0598,  0.0321],\n",
      "          [ 0.1138,  0.1018,  0.1236]]],\n",
      "\n",
      "\n",
      "        [[[ 0.1103,  0.0776,  0.1747],\n",
      "          [ 0.1857,  0.2623, -0.1519],\n",
      "          [ 0.2165,  0.0449,  0.1655]]],\n",
      "\n",
      "\n",
      "        [[[-0.0517,  0.1594, -0.0714],\n",
      "          [-0.3314, -0.1445, -0.3316],\n",
      "          [-0.2006, -0.3020, -0.0486]]],\n",
      "\n",
      "\n",
      "        [[[-0.1472,  0.2213,  0.1104],\n",
      "          [-0.1598, -0.2827,  0.3098],\n",
      "          [-0.2300,  0.2098, -0.3126]]]], device='cuda:0', requires_grad=True)), ('bias', Parameter containing:\n",
      "tensor([-0.0197,  0.0293, -0.1146,  0.0632, -0.2255, -0.2628], device='cuda:0',\n",
      "       requires_grad=True))]\n"
     ]
    }
   ],
   "source": [
    "print(\"named_parameters_before:\", list(module.named_parameters()))"
   ]
  },
  {
   "cell_type": "code",
   "execution_count": 24,
   "metadata": {},
   "outputs": [
    {
     "name": "stdout",
     "output_type": "stream",
     "text": [
      "named_buffers_before: []\n"
     ]
    }
   ],
   "source": [
    "print(\"named_buffers_before:\", list(module.named_buffers()))"
   ]
  },
  {
   "cell_type": "code",
   "execution_count": 25,
   "metadata": {},
   "outputs": [
    {
     "data": {
      "text/plain": [
       "Conv2d(1, 6, kernel_size=(3, 3), stride=(1, 1))"
      ]
     },
     "execution_count": 25,
     "metadata": {},
     "output_type": "execute_result"
    }
   ],
   "source": [
    "prune.random_unstructured(module, name=\"weight\", amount=0.3)"
   ]
  },
  {
   "cell_type": "code",
   "execution_count": 26,
   "metadata": {},
   "outputs": [
    {
     "name": "stdout",
     "output_type": "stream",
     "text": [
      "named_parameters_after: [('bias', Parameter containing:\n",
      "tensor([-0.0197,  0.0293, -0.1146,  0.0632, -0.2255, -0.2628], device='cuda:0',\n",
      "       requires_grad=True)), ('weight_orig', Parameter containing:\n",
      "tensor([[[[ 0.0284,  0.2955, -0.1782],\n",
      "          [ 0.0582,  0.2633,  0.1184],\n",
      "          [ 0.0152, -0.1134,  0.1717]]],\n",
      "\n",
      "\n",
      "        [[[-0.2635,  0.0592,  0.2944],\n",
      "          [-0.0558, -0.2884, -0.1755],\n",
      "          [ 0.2850,  0.1975, -0.0298]]],\n",
      "\n",
      "\n",
      "        [[[ 0.0245, -0.0228, -0.0329],\n",
      "          [-0.2639, -0.0598,  0.0321],\n",
      "          [ 0.1138,  0.1018,  0.1236]]],\n",
      "\n",
      "\n",
      "        [[[ 0.1103,  0.0776,  0.1747],\n",
      "          [ 0.1857,  0.2623, -0.1519],\n",
      "          [ 0.2165,  0.0449,  0.1655]]],\n",
      "\n",
      "\n",
      "        [[[-0.0517,  0.1594, -0.0714],\n",
      "          [-0.3314, -0.1445, -0.3316],\n",
      "          [-0.2006, -0.3020, -0.0486]]],\n",
      "\n",
      "\n",
      "        [[[-0.1472,  0.2213,  0.1104],\n",
      "          [-0.1598, -0.2827,  0.3098],\n",
      "          [-0.2300,  0.2098, -0.3126]]]], device='cuda:0', requires_grad=True))]\n"
     ]
    }
   ],
   "source": [
    "print(\"named_parameters_after:\", list(module.named_parameters()))"
   ]
  },
  {
   "cell_type": "code",
   "execution_count": 27,
   "metadata": {},
   "outputs": [
    {
     "name": "stdout",
     "output_type": "stream",
     "text": [
      "named_buffers_after: [('weight_mask', tensor([[[[0., 1., 1.],\n",
      "          [1., 1., 1.],\n",
      "          [1., 0., 1.]]],\n",
      "\n",
      "\n",
      "        [[[1., 1., 1.],\n",
      "          [0., 1., 0.],\n",
      "          [1., 1., 0.]]],\n",
      "\n",
      "\n",
      "        [[[0., 1., 0.],\n",
      "          [0., 0., 1.],\n",
      "          [1., 1., 1.]]],\n",
      "\n",
      "\n",
      "        [[[1., 1., 1.],\n",
      "          [1., 1., 1.],\n",
      "          [1., 1., 0.]]],\n",
      "\n",
      "\n",
      "        [[[0., 0., 0.],\n",
      "          [0., 0., 1.],\n",
      "          [1., 1., 1.]]],\n",
      "\n",
      "\n",
      "        [[[1., 1., 1.],\n",
      "          [1., 1., 0.],\n",
      "          [1., 1., 1.]]]], device='cuda:0'))]\n"
     ]
    }
   ],
   "source": [
    "print(\"named_buffers_after:\", list(module.named_buffers()))"
   ]
  },
  {
   "cell_type": "code",
   "execution_count": 28,
   "metadata": {},
   "outputs": [
    {
     "name": "stdout",
     "output_type": "stream",
     "text": [
      "tensor([[[[ 0.0000,  0.2955, -0.1782],\n",
      "          [ 0.0582,  0.2633,  0.1184],\n",
      "          [ 0.0152, -0.0000,  0.1717]]],\n",
      "\n",
      "\n",
      "        [[[-0.2635,  0.0592,  0.2944],\n",
      "          [-0.0000, -0.2884, -0.0000],\n",
      "          [ 0.2850,  0.1975, -0.0000]]],\n",
      "\n",
      "\n",
      "        [[[ 0.0000, -0.0228, -0.0000],\n",
      "          [-0.0000, -0.0000,  0.0321],\n",
      "          [ 0.1138,  0.1018,  0.1236]]],\n",
      "\n",
      "\n",
      "        [[[ 0.1103,  0.0776,  0.1747],\n",
      "          [ 0.1857,  0.2623, -0.1519],\n",
      "          [ 0.2165,  0.0449,  0.0000]]],\n",
      "\n",
      "\n",
      "        [[[-0.0000,  0.0000, -0.0000],\n",
      "          [-0.0000, -0.0000, -0.3316],\n",
      "          [-0.2006, -0.3020, -0.0486]]],\n",
      "\n",
      "\n",
      "        [[[-0.1472,  0.2213,  0.1104],\n",
      "          [-0.1598, -0.2827,  0.0000],\n",
      "          [-0.2300,  0.2098, -0.3126]]]], device='cuda:0',\n",
      "       grad_fn=<MulBackward0>)\n"
     ]
    }
   ],
   "source": [
    "print(module.weight)"
   ]
  },
  {
   "cell_type": "markdown",
   "metadata": {},
   "source": [
    "经过剪枝后，named_patameters中只有weight_orig（和原来的weight值一样），buffer中添加了weight_mask，即为weight剪枝时的掩码张量。\n",
    "换言之，weight = weight * weight_mask"
   ]
  },
  {
   "cell_type": "code",
   "execution_count": 29,
   "metadata": {},
   "outputs": [
    {
     "data": {
      "text/plain": [
       "Conv2d(1, 6, kernel_size=(3, 3), stride=(1, 1))"
      ]
     },
     "execution_count": 29,
     "metadata": {},
     "output_type": "execute_result"
    }
   ],
   "source": [
    "prune.random_unstructured(module, name=\"bias\", amount=0.3)"
   ]
  },
  {
   "cell_type": "markdown",
   "metadata": {},
   "source": [
    "prune也有很多方式，比如l1_unstructured和random_unstructured，前者根据l1值找出需要剪枝的边，后者随机"
   ]
  },
  {
   "cell_type": "code",
   "execution_count": 30,
   "metadata": {},
   "outputs": [
    {
     "name": "stdout",
     "output_type": "stream",
     "text": [
      "[('weight_orig', Parameter containing:\n",
      "tensor([[[[ 0.0284,  0.2955, -0.1782],\n",
      "          [ 0.0582,  0.2633,  0.1184],\n",
      "          [ 0.0152, -0.1134,  0.1717]]],\n",
      "\n",
      "\n",
      "        [[[-0.2635,  0.0592,  0.2944],\n",
      "          [-0.0558, -0.2884, -0.1755],\n",
      "          [ 0.2850,  0.1975, -0.0298]]],\n",
      "\n",
      "\n",
      "        [[[ 0.0245, -0.0228, -0.0329],\n",
      "          [-0.2639, -0.0598,  0.0321],\n",
      "          [ 0.1138,  0.1018,  0.1236]]],\n",
      "\n",
      "\n",
      "        [[[ 0.1103,  0.0776,  0.1747],\n",
      "          [ 0.1857,  0.2623, -0.1519],\n",
      "          [ 0.2165,  0.0449,  0.1655]]],\n",
      "\n",
      "\n",
      "        [[[-0.0517,  0.1594, -0.0714],\n",
      "          [-0.3314, -0.1445, -0.3316],\n",
      "          [-0.2006, -0.3020, -0.0486]]],\n",
      "\n",
      "\n",
      "        [[[-0.1472,  0.2213,  0.1104],\n",
      "          [-0.1598, -0.2827,  0.3098],\n",
      "          [-0.2300,  0.2098, -0.3126]]]], device='cuda:0', requires_grad=True)), ('bias_orig', Parameter containing:\n",
      "tensor([-0.0197,  0.0293, -0.1146,  0.0632, -0.2255, -0.2628], device='cuda:0',\n",
      "       requires_grad=True))]\n"
     ]
    }
   ],
   "source": [
    "print(list(module.named_parameters()))"
   ]
  },
  {
   "cell_type": "code",
   "execution_count": 31,
   "metadata": {},
   "outputs": [
    {
     "name": "stdout",
     "output_type": "stream",
     "text": [
      "[('weight_mask', tensor([[[[0., 1., 1.],\n",
      "          [1., 1., 1.],\n",
      "          [1., 0., 1.]]],\n",
      "\n",
      "\n",
      "        [[[1., 1., 1.],\n",
      "          [0., 1., 0.],\n",
      "          [1., 1., 0.]]],\n",
      "\n",
      "\n",
      "        [[[0., 1., 0.],\n",
      "          [0., 0., 1.],\n",
      "          [1., 1., 1.]]],\n",
      "\n",
      "\n",
      "        [[[1., 1., 1.],\n",
      "          [1., 1., 1.],\n",
      "          [1., 1., 0.]]],\n",
      "\n",
      "\n",
      "        [[[0., 0., 0.],\n",
      "          [0., 0., 1.],\n",
      "          [1., 1., 1.]]],\n",
      "\n",
      "\n",
      "        [[[1., 1., 1.],\n",
      "          [1., 1., 0.],\n",
      "          [1., 1., 1.]]]], device='cuda:0')), ('bias_mask', tensor([0., 0., 1., 1., 1., 1.], device='cuda:0'))]\n"
     ]
    }
   ],
   "source": [
    "print(list(module.named_buffers()))"
   ]
  },
  {
   "cell_type": "code",
   "execution_count": 32,
   "metadata": {},
   "outputs": [
    {
     "name": "stdout",
     "output_type": "stream",
     "text": [
      "tensor([-0.0000,  0.0000, -0.1146,  0.0632, -0.2255, -0.2628], device='cuda:0',\n",
      "       grad_fn=<MulBackward0>)\n"
     ]
    }
   ],
   "source": [
    "print(module.bias)"
   ]
  },
  {
   "cell_type": "code",
   "execution_count": 33,
   "metadata": {},
   "outputs": [
    {
     "name": "stdout",
     "output_type": "stream",
     "text": [
      "OrderedDict([(2, <torch.nn.utils.prune.RandomUnstructured object at 0x7f86bf13da10>), (3, <torch.nn.utils.prune.RandomUnstructured object at 0x7f86b5547d50>)])\n"
     ]
    }
   ],
   "source": [
    "print(module._forward_pre_hooks)"
   ]
  }
 ],
 "metadata": {
  "kernelspec": {
   "display_name": "yolov7",
   "language": "python",
   "name": "yolov7"
  },
  "language_info": {
   "codemirror_mode": {
    "name": "ipython",
    "version": 3
   },
   "file_extension": ".py",
   "mimetype": "text/x-python",
   "name": "python",
   "nbconvert_exporter": "python",
   "pygments_lexer": "ipython3",
   "version": "3.7.13"
  }
 },
 "nbformat": 4,
 "nbformat_minor": 2
}
