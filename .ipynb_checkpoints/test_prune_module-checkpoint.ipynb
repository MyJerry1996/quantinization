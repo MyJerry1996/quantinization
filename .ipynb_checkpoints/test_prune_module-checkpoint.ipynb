{
 "cells": [
  {
   "cell_type": "code",
   "execution_count": 19,
   "metadata": {},
   "outputs": [],
   "source": [
    "import torch\n",
    "import torch.nn as nn\n",
    "import torch.nn.utils.prune as prune\n",
    "import torch.nn.functional as F\n",
    "from model import LeNet"
   ]
  },
  {
   "cell_type": "code",
   "execution_count": 20,
   "metadata": {},
   "outputs": [],
   "source": [
    "device = torch.device(\"cuda\" if torch.cuda.is_available() else \"cpu\")"
   ]
  },
  {
   "cell_type": "code",
   "execution_count": 21,
   "metadata": {},
   "outputs": [],
   "source": [
    "model = LeNet().to(device = device)"
   ]
  },
  {
   "cell_type": "code",
   "execution_count": 22,
   "metadata": {},
   "outputs": [],
   "source": [
    "module = model.conv1"
   ]
  },
  {
   "cell_type": "code",
   "execution_count": 23,
   "metadata": {},
   "outputs": [
    {
     "name": "stdout",
     "output_type": "stream",
     "text": [
      "named_parameters_before: [('weight', Parameter containing:\n",
      "tensor([[[[ 0.2344, -0.1534, -0.1717],\n",
      "          [ 0.1423,  0.1479, -0.1161],\n",
      "          [ 0.1598, -0.0189,  0.0788]]],\n",
      "\n",
      "\n",
      "        [[[-0.1830, -0.1412, -0.1916],\n",
      "          [ 0.1269,  0.0265, -0.2616],\n",
      "          [ 0.0813,  0.0653, -0.0322]]],\n",
      "\n",
      "\n",
      "        [[[ 0.0394, -0.2268,  0.3219],\n",
      "          [ 0.1310, -0.1745, -0.2131],\n",
      "          [ 0.0869, -0.2119, -0.1545]]],\n",
      "\n",
      "\n",
      "        [[[-0.1306, -0.0579,  0.1979],\n",
      "          [-0.0960,  0.0246,  0.2391],\n",
      "          [-0.0072, -0.0899, -0.0895]]],\n",
      "\n",
      "\n",
      "        [[[ 0.1965, -0.2621,  0.1457],\n",
      "          [ 0.1589, -0.0594,  0.0040],\n",
      "          [ 0.0165, -0.2806,  0.0036]]],\n",
      "\n",
      "\n",
      "        [[[ 0.2581, -0.0061,  0.1070],\n",
      "          [-0.0425,  0.1705,  0.1227],\n",
      "          [-0.2775, -0.1106, -0.1397]]]], device='cuda:0', requires_grad=True)), ('bias', Parameter containing:\n",
      "tensor([ 0.2617,  0.0278, -0.2649, -0.1894, -0.2870,  0.1317], device='cuda:0',\n",
      "       requires_grad=True))]\n"
     ]
    }
   ],
   "source": [
    "print(\"named_parameters_before:\", list(module.named_parameters()))"
   ]
  },
  {
   "cell_type": "code",
   "execution_count": 24,
   "metadata": {},
   "outputs": [
    {
     "name": "stdout",
     "output_type": "stream",
     "text": [
      "named_buffers_before: []\n"
     ]
    }
   ],
   "source": [
    "print(\"named_buffers_before:\", list(module.named_buffers()))"
   ]
  },
  {
   "cell_type": "code",
   "execution_count": 25,
   "metadata": {},
   "outputs": [
    {
     "data": {
      "text/plain": [
       "Conv2d(1, 6, kernel_size=(3, 3), stride=(1, 1))"
      ]
     },
     "execution_count": 25,
     "metadata": {},
     "output_type": "execute_result"
    }
   ],
   "source": [
    "prune.random_unstructured(module, name=\"weight\", amount=0.3)"
   ]
  },
  {
   "cell_type": "code",
   "execution_count": 26,
   "metadata": {},
   "outputs": [
    {
     "name": "stdout",
     "output_type": "stream",
     "text": [
      "named_parameters_after: [('bias', Parameter containing:\n",
      "tensor([ 0.2617,  0.0278, -0.2649, -0.1894, -0.2870,  0.1317], device='cuda:0',\n",
      "       requires_grad=True)), ('weight_orig', Parameter containing:\n",
      "tensor([[[[ 0.2344, -0.1534, -0.1717],\n",
      "          [ 0.1423,  0.1479, -0.1161],\n",
      "          [ 0.1598, -0.0189,  0.0788]]],\n",
      "\n",
      "\n",
      "        [[[-0.1830, -0.1412, -0.1916],\n",
      "          [ 0.1269,  0.0265, -0.2616],\n",
      "          [ 0.0813,  0.0653, -0.0322]]],\n",
      "\n",
      "\n",
      "        [[[ 0.0394, -0.2268,  0.3219],\n",
      "          [ 0.1310, -0.1745, -0.2131],\n",
      "          [ 0.0869, -0.2119, -0.1545]]],\n",
      "\n",
      "\n",
      "        [[[-0.1306, -0.0579,  0.1979],\n",
      "          [-0.0960,  0.0246,  0.2391],\n",
      "          [-0.0072, -0.0899, -0.0895]]],\n",
      "\n",
      "\n",
      "        [[[ 0.1965, -0.2621,  0.1457],\n",
      "          [ 0.1589, -0.0594,  0.0040],\n",
      "          [ 0.0165, -0.2806,  0.0036]]],\n",
      "\n",
      "\n",
      "        [[[ 0.2581, -0.0061,  0.1070],\n",
      "          [-0.0425,  0.1705,  0.1227],\n",
      "          [-0.2775, -0.1106, -0.1397]]]], device='cuda:0', requires_grad=True))]\n"
     ]
    }
   ],
   "source": [
    "print(\"named_parameters_after:\", list(module.named_parameters()))"
   ]
  },
  {
   "cell_type": "code",
   "execution_count": 27,
   "metadata": {},
   "outputs": [
    {
     "name": "stdout",
     "output_type": "stream",
     "text": [
      "named_buffers_after: [('weight_mask', tensor([[[[1., 1., 0.],\n",
      "          [0., 1., 1.],\n",
      "          [0., 0., 1.]]],\n",
      "\n",
      "\n",
      "        [[[1., 0., 0.],\n",
      "          [1., 1., 1.],\n",
      "          [1., 0., 1.]]],\n",
      "\n",
      "\n",
      "        [[[1., 0., 1.],\n",
      "          [1., 1., 1.],\n",
      "          [1., 1., 1.]]],\n",
      "\n",
      "\n",
      "        [[[1., 1., 0.],\n",
      "          [1., 1., 1.],\n",
      "          [1., 1., 1.]]],\n",
      "\n",
      "\n",
      "        [[[1., 1., 0.],\n",
      "          [1., 0., 0.],\n",
      "          [0., 0., 1.]]],\n",
      "\n",
      "\n",
      "        [[[1., 0., 1.],\n",
      "          [1., 1., 1.],\n",
      "          [1., 1., 0.]]]], device='cuda:0'))]\n"
     ]
    }
   ],
   "source": [
    "print(\"named_buffers_after:\", list(module.named_buffers()))"
   ]
  },
  {
   "cell_type": "code",
   "execution_count": 28,
   "metadata": {},
   "outputs": [
    {
     "name": "stdout",
     "output_type": "stream",
     "text": [
      "tensor([[[[ 0.2344, -0.1534, -0.0000],\n",
      "          [ 0.0000,  0.1479, -0.1161],\n",
      "          [ 0.0000, -0.0000,  0.0788]]],\n",
      "\n",
      "\n",
      "        [[[-0.1830, -0.0000, -0.0000],\n",
      "          [ 0.1269,  0.0265, -0.2616],\n",
      "          [ 0.0813,  0.0000, -0.0322]]],\n",
      "\n",
      "\n",
      "        [[[ 0.0394, -0.0000,  0.3219],\n",
      "          [ 0.1310, -0.1745, -0.2131],\n",
      "          [ 0.0869, -0.2119, -0.1545]]],\n",
      "\n",
      "\n",
      "        [[[-0.1306, -0.0579,  0.0000],\n",
      "          [-0.0960,  0.0246,  0.2391],\n",
      "          [-0.0072, -0.0899, -0.0895]]],\n",
      "\n",
      "\n",
      "        [[[ 0.1965, -0.2621,  0.0000],\n",
      "          [ 0.1589, -0.0000,  0.0000],\n",
      "          [ 0.0000, -0.0000,  0.0036]]],\n",
      "\n",
      "\n",
      "        [[[ 0.2581, -0.0000,  0.1070],\n",
      "          [-0.0425,  0.1705,  0.1227],\n",
      "          [-0.2775, -0.1106, -0.0000]]]], device='cuda:0',\n",
      "       grad_fn=<MulBackward0>)\n"
     ]
    }
   ],
   "source": [
    "print(module.weight)"
   ]
  },
  {
   "cell_type": "markdown",
   "metadata": {},
   "source": [
    "经过剪枝后，named_patameters中只有weight_orig（和原来的weight值一样），buffer中添加了weight_mask，即为weight剪枝时的掩码张量。\n",
    "换言之，weight = weight * weight_mask"
   ]
  },
  {
   "cell_type": "code",
   "execution_count": 29,
   "metadata": {},
   "outputs": [
    {
     "data": {
      "text/plain": [
       "Conv2d(1, 6, kernel_size=(3, 3), stride=(1, 1))"
      ]
     },
     "execution_count": 29,
     "metadata": {},
     "output_type": "execute_result"
    }
   ],
   "source": [
    "prune.random_unstructured(module, name=\"bias\", amount=0.3)"
   ]
  },
  {
   "cell_type": "markdown",
   "metadata": {},
   "source": [
    "prune也有很多方式，比如l1_unstructured和random_unstructured，前者根据l1值找出需要剪枝的边，后者随机"
   ]
  },
  {
   "cell_type": "code",
   "execution_count": 30,
   "metadata": {},
   "outputs": [
    {
     "name": "stdout",
     "output_type": "stream",
     "text": [
      "[('weight_orig', Parameter containing:\n",
      "tensor([[[[ 0.2344, -0.1534, -0.1717],\n",
      "          [ 0.1423,  0.1479, -0.1161],\n",
      "          [ 0.1598, -0.0189,  0.0788]]],\n",
      "\n",
      "\n",
      "        [[[-0.1830, -0.1412, -0.1916],\n",
      "          [ 0.1269,  0.0265, -0.2616],\n",
      "          [ 0.0813,  0.0653, -0.0322]]],\n",
      "\n",
      "\n",
      "        [[[ 0.0394, -0.2268,  0.3219],\n",
      "          [ 0.1310, -0.1745, -0.2131],\n",
      "          [ 0.0869, -0.2119, -0.1545]]],\n",
      "\n",
      "\n",
      "        [[[-0.1306, -0.0579,  0.1979],\n",
      "          [-0.0960,  0.0246,  0.2391],\n",
      "          [-0.0072, -0.0899, -0.0895]]],\n",
      "\n",
      "\n",
      "        [[[ 0.1965, -0.2621,  0.1457],\n",
      "          [ 0.1589, -0.0594,  0.0040],\n",
      "          [ 0.0165, -0.2806,  0.0036]]],\n",
      "\n",
      "\n",
      "        [[[ 0.2581, -0.0061,  0.1070],\n",
      "          [-0.0425,  0.1705,  0.1227],\n",
      "          [-0.2775, -0.1106, -0.1397]]]], device='cuda:0', requires_grad=True)), ('bias_orig', Parameter containing:\n",
      "tensor([ 0.2617,  0.0278, -0.2649, -0.1894, -0.2870,  0.1317], device='cuda:0',\n",
      "       requires_grad=True))]\n"
     ]
    }
   ],
   "source": [
    "print(list(module.named_parameters()))"
   ]
  },
  {
   "cell_type": "code",
   "execution_count": 31,
   "metadata": {},
   "outputs": [
    {
     "name": "stdout",
     "output_type": "stream",
     "text": [
      "[('weight_mask', tensor([[[[1., 1., 0.],\n",
      "          [0., 1., 1.],\n",
      "          [0., 0., 1.]]],\n",
      "\n",
      "\n",
      "        [[[1., 0., 0.],\n",
      "          [1., 1., 1.],\n",
      "          [1., 0., 1.]]],\n",
      "\n",
      "\n",
      "        [[[1., 0., 1.],\n",
      "          [1., 1., 1.],\n",
      "          [1., 1., 1.]]],\n",
      "\n",
      "\n",
      "        [[[1., 1., 0.],\n",
      "          [1., 1., 1.],\n",
      "          [1., 1., 1.]]],\n",
      "\n",
      "\n",
      "        [[[1., 1., 0.],\n",
      "          [1., 0., 0.],\n",
      "          [0., 0., 1.]]],\n",
      "\n",
      "\n",
      "        [[[1., 0., 1.],\n",
      "          [1., 1., 1.],\n",
      "          [1., 1., 0.]]]], device='cuda:0')), ('bias_mask', tensor([1., 1., 1., 0., 1., 0.], device='cuda:0'))]\n"
     ]
    }
   ],
   "source": [
    "print(list(module.named_buffers()))"
   ]
  },
  {
   "cell_type": "code",
   "execution_count": 32,
   "metadata": {},
   "outputs": [
    {
     "name": "stdout",
     "output_type": "stream",
     "text": [
      "tensor([ 0.2617,  0.0278, -0.2649, -0.0000, -0.2870,  0.0000], device='cuda:0',\n",
      "       grad_fn=<MulBackward0>)\n"
     ]
    }
   ],
   "source": [
    "print(module.bias)"
   ]
  },
  {
   "cell_type": "code",
   "execution_count": 33,
   "metadata": {},
   "outputs": [
    {
     "name": "stdout",
     "output_type": "stream",
     "text": [
      "OrderedDict([(2, <torch.nn.utils.prune.RandomUnstructured object at 0x7f9f18c0c9d0>), (3, <torch.nn.utils.prune.RandomUnstructured object at 0x7f9f18c10dd0>)])\n"
     ]
    }
   ],
   "source": [
    "print(module._forward_pre_hooks)"
   ]
  }
 ],
 "metadata": {
  "kernelspec": {
   "display_name": "yolov7",
   "language": "python",
   "name": "yolov7"
  },
  "language_info": {
   "codemirror_mode": {
    "name": "ipython",
    "version": 3
   },
   "file_extension": ".py",
   "mimetype": "text/x-python",
   "name": "python",
   "nbconvert_exporter": "python",
   "pygments_lexer": "ipython3",
   "version": "3.7.13"
  }
 },
 "nbformat": 4,
 "nbformat_minor": 2
}
