{
 "cells": [
  {
   "cell_type": "code",
   "execution_count": 2,
   "metadata": {},
   "outputs": [],
   "source": [
    "import torch\n",
    "import torch.quantization.quantize_fx as quantize_fx\n",
    "from model import BiConv\n",
    "import copy"
   ]
  },
  {
   "cell_type": "code",
   "execution_count": 3,
   "metadata": {},
   "outputs": [],
   "source": [
    "model_fp = BiConv()"
   ]
  },
  {
   "attachments": {},
   "cell_type": "markdown",
   "metadata": {},
   "source": [
    "Posting Training Dynamic/weight_only Quantization"
   ]
  },
  {
   "cell_type": "code",
   "execution_count": 5,
   "metadata": {},
   "outputs": [
    {
     "name": "stdout",
     "output_type": "stream",
     "text": [
      "tensor([[-0.0355, -0.2913,  0.1903,  0.0765, -0.0081,  0.0220,  0.2269,  0.0348,\n",
      "         -0.1663, -0.0268]])\n"
     ]
    }
   ],
   "source": [
    "model_to_quantize = copy.deepcopy(model_fp)\n",
    "qconfig = torch.quantization.default_dynamic_qconfig\n",
    "model_to_quantize.eval()\n",
    "qconfig_dict = {\"\": qconfig}\n",
    "model_prepared = quantize_fx.prepare_fx(model_to_quantize, qconfig_dict)\n",
    "model_quantized = quantize_fx.convert_fx(model_prepared)\n",
    "# print(model_quantized)\n",
    "\n",
    "input_fp32 = torch.randn(1, 1, 128, 128)\n",
    "res = model_quantized(input_fp32)\n",
    "print(res)"
   ]
  },
  {
   "attachments": {},
   "cell_type": "markdown",
   "metadata": {},
   "source": [
    "Posting Training Static Quantization"
   ]
  },
  {
   "cell_type": "code",
   "execution_count": 7,
   "metadata": {},
   "outputs": [
    {
     "name": "stdout",
     "output_type": "stream",
     "text": [
      "tensor([[0., 0., 0., 0., 0., 0., 0., 0., 0., 0.]])\n"
     ]
    }
   ],
   "source": [
    "model_to_quantize = copy.deepcopy(model_fp)\n",
    "qconfig = torch.quantization.get_default_qconfig('qnnpack')\n",
    "model_to_quantize.eval()\n",
    "qconfig_dict = {\"\": qconfig}\n",
    "model_prepared = quantize_fx.prepare_fx(model_to_quantize, qconfig_dict)\n",
    "model_quantized = quantize_fx.convert_fx(model_prepared)\n",
    "# print(model_quantized)\n",
    "\n",
    "input_fp32 = torch.randn(1, 1, 128, 128)\n",
    "res = model_quantized(input_fp32)\n",
    "print(res)"
   ]
  },
  {
   "attachments": {},
   "cell_type": "markdown",
   "metadata": {},
   "source": [
    "Quantization Aware Training for Static Quantization"
   ]
  },
  {
   "cell_type": "code",
   "execution_count": 12,
   "metadata": {},
   "outputs": [
    {
     "name": "stdout",
     "output_type": "stream",
     "text": [
      "tensor([[0., 0., 0., 0., 0., 0., 0., 0., 0., 0.]])\n"
     ]
    }
   ],
   "source": [
    "model_to_quantize = copy.deepcopy(model_fp)\n",
    "qconfig = torch.quantization.get_default_qat_qconfig('qnnpack')\n",
    "\n",
    "model_to_quantize.train()\n",
    "qconfig_dict = {\"\": qconfig}\n",
    "model_prepared = quantize_fx.prepare_qat_fx(model_to_quantize, qconfig_dict)\n",
    "model_quantized = quantize_fx.convert_fx(model_prepared)\n",
    "\n",
    "input_fp32 = torch.randn(1, 1, 128, 128)\n",
    "res = model_quantized(input_fp32)\n",
    "print(res)"
   ]
  },
  {
   "attachments": {},
   "cell_type": "markdown",
   "metadata": {},
   "source": [
    "Fusion"
   ]
  },
  {
   "cell_type": "code",
   "execution_count": 11,
   "metadata": {},
   "outputs": [
    {
     "name": "stdout",
     "output_type": "stream",
     "text": [
      "tensor([[0., 0., 0., 0., 0., 0., 0., 0., 0., 0.]])\n"
     ]
    }
   ],
   "source": [
    "model_to_quantize = copy.deepcopy(model_fp)\n",
    "model_to_quantize.eval()\n",
    "model_fused = quantize_fx.fuse_fx(model_to_quantize)\n",
    "\n",
    "input_fp32 = torch.randn(1, 1, 128, 128)\n",
    "res = model_quantized(input_fp32)\n",
    "print(res)"
   ]
  },
  {
   "cell_type": "code",
   "execution_count": 67,
   "metadata": {},
   "outputs": [
    {
     "ename": "ImportError",
     "evalue": "cannot import name 'QConfigMapping' from 'torch.quantization' (/data_1/anaconda3/envs/yolov7/lib/python3.7/site-packages/torch/quantization/__init__.py)",
     "output_type": "error",
     "traceback": [
      "\u001b[0;31m---------------------------------------------------------------------------\u001b[0m",
      "\u001b[0;31mImportError\u001b[0m                               Traceback (most recent call last)",
      "\u001b[0;32m/tmp/ipykernel_12849/1682186526.py\u001b[0m in \u001b[0;36m<module>\u001b[0;34m\u001b[0m\n\u001b[0;32m----> 1\u001b[0;31m \u001b[0;32mfrom\u001b[0m \u001b[0mtorch\u001b[0m\u001b[0;34m.\u001b[0m\u001b[0mquantization\u001b[0m \u001b[0;32mimport\u001b[0m \u001b[0mQConfigMapping\u001b[0m\u001b[0;34m\u001b[0m\u001b[0;34m\u001b[0m\u001b[0m\n\u001b[0m\u001b[1;32m      2\u001b[0m \u001b[0mmodel_fp32\u001b[0m \u001b[0;34m=\u001b[0m \u001b[0mcopy\u001b[0m\u001b[0;34m.\u001b[0m\u001b[0mdeepcopy\u001b[0m\u001b[0;34m(\u001b[0m\u001b[0mmodel_fp\u001b[0m\u001b[0;34m)\u001b[0m\u001b[0;34m\u001b[0m\u001b[0;34m\u001b[0m\u001b[0m\n\u001b[1;32m      3\u001b[0m \u001b[0mqconfig_mapping\u001b[0m \u001b[0;34m=\u001b[0m \u001b[0mQConfigMapping\u001b[0m\u001b[0;34m.\u001b[0m\u001b[0mset_global\u001b[0m\u001b[0;34m(\u001b[0m\u001b[0mqconfig\u001b[0m\u001b[0;34m)\u001b[0m\u001b[0;34m\u001b[0m\u001b[0;34m\u001b[0m\u001b[0m\n\u001b[1;32m      4\u001b[0m \u001b[0mmodel_fp32\u001b[0m\u001b[0;34m.\u001b[0m\u001b[0mtraceable_submodule\u001b[0m \u001b[0;34m=\u001b[0m \u001b[0mquantize_fx\u001b[0m\u001b[0;34m.\u001b[0m\u001b[0mprepare_fx\u001b[0m\u001b[0;34m(\u001b[0m\u001b[0mmodel_fp32\u001b[0m\u001b[0;34m.\u001b[0m\u001b[0mtraceable_submodule\u001b[0m\u001b[0;34m,\u001b[0m \u001b[0mqconfig_mapping\u001b[0m\u001b[0;34m,\u001b[0m \u001b[0minput_fp32\u001b[0m\u001b[0;34m)\u001b[0m\u001b[0;34m\u001b[0m\u001b[0;34m\u001b[0m\u001b[0m\n",
      "\u001b[0;31mImportError\u001b[0m: cannot import name 'QConfigMapping' from 'torch.quantization' (/data_1/anaconda3/envs/yolov7/lib/python3.7/site-packages/torch/quantization/__init__.py)"
     ]
    }
   ],
   "source": [
    "from torch.quantization import QConfigMapping\n",
    "model_fp32 = copy.deepcopy(model_fp)\n",
    "qconfig_mapping = QConfigMapping.set_global(qconfig)\n",
    "model_fp32.traceable_submodule = quantize_fx.prepare_fx(model_fp32.traceable_submodule, qconfig_mapping, input_fp32)"
   ]
  }
 ],
 "metadata": {
  "kernelspec": {
   "display_name": "Python 3",
   "language": "python",
   "name": "python3"
  },
  "language_info": {
   "codemirror_mode": {
    "name": "ipython",
    "version": 3
   },
   "file_extension": ".py",
   "mimetype": "text/x-python",
   "name": "python",
   "nbconvert_exporter": "python",
   "pygments_lexer": "ipython3",
   "version": "3.7.13"
  },
  "vscode": {
   "interpreter": {
    "hash": "4703c76b733aeceeb2804d2b7fb3e7ebd3e3383e616894fc35d362b207b2bea7"
   }
  }
 },
 "nbformat": 4,
 "nbformat_minor": 2
}
